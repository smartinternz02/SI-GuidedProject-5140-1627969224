{
 "cells": [
  {
   "cell_type": "code",
   "execution_count": 1,
   "metadata": {},
   "outputs": [],
   "source": [
    "from tensorflow.keras.models import Sequential\n",
    "from tensorflow.keras.layers import Dense, Convolution2D, MaxPooling2D, Flatten"
   ]
  },
  {
   "cell_type": "code",
   "execution_count": 2,
   "metadata": {},
   "outputs": [],
   "source": [
    "from tensorflow.keras.preprocessing.image import ImageDataGenerator\n",
    "\n",
    "train_datagen = ImageDataGenerator(rescale=1./255, shear_range=0.2, zoom_range=0.2, horizontal_flip= True)\n",
    "test_datagen = ImageDataGenerator(rescale=1./255)"
   ]
  },
  {
   "cell_type": "code",
   "execution_count": 3,
   "metadata": {},
   "outputs": [
    {
     "name": "stdout",
     "output_type": "stream",
     "text": [
      "Found 892 images belonging to 5 classes.\n",
      "Found 661 images belonging to 5 classes.\n"
     ]
    }
   ],
   "source": [
    "x_train = train_datagen.flow_from_directory(r\"C:\\Manipal externship\\Electronic Brands\\trainset\", target_size=(64,64), \n",
    "                                            batch_size=32, class_mode= \"categorical\")\n",
    "x_test = test_datagen.flow_from_directory(r\"C:\\Manipal externship\\Electronic Brands\\testset\", target_size=(64,64), \n",
    "                                            batch_size=32, class_mode= \"categorical\")"
   ]
  },
  {
   "cell_type": "code",
   "execution_count": 4,
   "metadata": {},
   "outputs": [],
   "source": [
    "cnn = Sequential()"
   ]
  },
  {
   "cell_type": "code",
   "execution_count": 5,
   "metadata": {},
   "outputs": [
    {
     "name": "stdout",
     "output_type": "stream",
     "text": [
      "WARNING:tensorflow:From C:\\Users\\user\\Anaconda3\\lib\\site-packages\\tensorflow\\python\\ops\\init_ops.py:1251: calling VarianceScaling.__init__ (from tensorflow.python.ops.init_ops) with dtype is deprecated and will be removed in a future version.\n",
      "Instructions for updating:\n",
      "Call initializer instance with the dtype argument instead of passing it to the constructor\n"
     ]
    }
   ],
   "source": [
    "cnn.add(Convolution2D(32, (3,3), input_shape=(64,64,3)))"
   ]
  },
  {
   "cell_type": "code",
   "execution_count": 6,
   "metadata": {},
   "outputs": [
    {
     "name": "stdout",
     "output_type": "stream",
     "text": [
      "WARNING:tensorflow:From C:\\Users\\user\\Anaconda3\\lib\\site-packages\\tensorflow\\python\\keras\\initializers.py:119: calling RandomUniform.__init__ (from tensorflow.python.ops.init_ops) with dtype is deprecated and will be removed in a future version.\n",
      "Instructions for updating:\n",
      "Call initializer instance with the dtype argument instead of passing it to the constructor\n"
     ]
    }
   ],
   "source": [
    "cnn.add(MaxPooling2D((2,2)))\n",
    "cnn.add(Flatten())\n",
    "cnn.add(Dense(units=128, kernel_initializer=\"random_uniform\", activation=\"relu\"))"
   ]
  },
  {
   "cell_type": "code",
   "execution_count": 7,
   "metadata": {},
   "outputs": [],
   "source": [
    "cnn.add(Dense(units=5, kernel_initializer=\"random_uniform\", activation=\"softmax\"))"
   ]
  },
  {
   "cell_type": "code",
   "execution_count": 8,
   "metadata": {},
   "outputs": [],
   "source": [
    "cnn.compile(optimizer=\"adam\", loss=\"categorical_crossentropy\", metrics=[\"accuracy\"])"
   ]
  },
  {
   "cell_type": "code",
   "execution_count": 9,
   "metadata": {},
   "outputs": [
    {
     "name": "stdout",
     "output_type": "stream",
     "text": [
      "Epoch 1/10\n",
      "28/27 [==============================] - 7s 259ms/step - loss: 1.2008 - acc: 0.4507 - val_loss: 2.0911 - val_acc: 0.1316\n",
      "Epoch 2/10\n",
      "28/27 [==============================] - 5s 196ms/step - loss: 0.8254 - acc: 0.6726 - val_loss: 2.7855 - val_acc: 0.0862\n",
      "Epoch 3/10\n",
      "28/27 [==============================] - 6s 217ms/step - loss: 0.7220 - acc: 0.7309 - val_loss: 3.6383 - val_acc: 0.0590\n",
      "Epoch 4/10\n",
      "28/27 [==============================] - 6s 228ms/step - loss: 0.6722 - acc: 0.7511 - val_loss: 3.0164 - val_acc: 0.0923\n",
      "Epoch 5/10\n",
      "28/27 [==============================] - 7s 242ms/step - loss: 0.6101 - acc: 0.7735 - val_loss: 3.5598 - val_acc: 0.1135\n",
      "Epoch 6/10\n",
      "28/27 [==============================] - 6s 215ms/step - loss: 0.5649 - acc: 0.7960 - val_loss: 4.8609 - val_acc: 0.0499\n",
      "Epoch 7/10\n",
      "28/27 [==============================] - 6s 217ms/step - loss: 0.5072 - acc: 0.8217 - val_loss: 4.6292 - val_acc: 0.0726\n",
      "Epoch 8/10\n",
      "28/27 [==============================] - 6s 212ms/step - loss: 0.4804 - acc: 0.8217 - val_loss: 4.3967 - val_acc: 0.0741\n",
      "Epoch 9/10\n",
      "28/27 [==============================] - 5s 196ms/step - loss: 0.4478 - acc: 0.8307 - val_loss: 4.2975 - val_acc: 0.0605\n",
      "Epoch 10/10\n",
      "28/27 [==============================] - 6s 200ms/step - loss: 0.3974 - acc: 0.8587 - val_loss: 4.5892 - val_acc: 0.0726\n"
     ]
    },
    {
     "data": {
      "text/plain": [
       "<tensorflow.python.keras.callbacks.History at 0x1eb9499b8d0>"
      ]
     },
     "execution_count": 9,
     "metadata": {},
     "output_type": "execute_result"
    }
   ],
   "source": [
    "cnn.fit_generator(x_train, steps_per_epoch=892/32, epochs=10, validation_data=x_test, validation_steps=661/32)"
   ]
  },
  {
   "cell_type": "code",
   "execution_count": 10,
   "metadata": {},
   "outputs": [],
   "source": [
    "cnn.save(\"brand.h5\")"
   ]
  },
  {
   "cell_type": "code",
   "execution_count": null,
   "metadata": {},
   "outputs": [],
   "source": []
  }
 ],
 "metadata": {
  "kernelspec": {
   "display_name": "Python 3",
   "language": "python",
   "name": "python3"
  },
  "language_info": {
   "codemirror_mode": {
    "name": "ipython",
    "version": 3
   },
   "file_extension": ".py",
   "mimetype": "text/x-python",
   "name": "python",
   "nbconvert_exporter": "python",
   "pygments_lexer": "ipython3",
   "version": "3.7.3"
  }
 },
 "nbformat": 4,
 "nbformat_minor": 2
}
